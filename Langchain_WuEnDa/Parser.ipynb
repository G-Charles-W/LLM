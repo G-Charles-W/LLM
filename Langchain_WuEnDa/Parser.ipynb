{
 "cells": [
  {
   "cell_type": "code",
   "id": "initial_id",
   "metadata": {
    "collapsed": true,
    "ExecuteTime": {
     "end_time": "2024-12-01T09:12:21.220716Z",
     "start_time": "2024-12-01T09:12:21.151295Z"
    }
   },
   "source": [
    "from langchain.chains.question_answering.map_rerank_prompt import output_parser\n",
    "\n",
    "customer_review = \"\"\"\n",
    "We love this leaf blower. We use it on the porches of the house, and it's amazing. We also use it almost daily to blow up the goat dingleberries in our goat barn. It starts super easy, and lasts quite a while on one battery. It comes with two batteries, so we constantly have a battery ready when the other goes low. Absolutely love this blower, and would purchase it again. It arrives in two days.\n",
    "\"\"\"\n",
    "\n",
    "review_template = \"\"\"\n",
    "For the following text, extract the following information:\n",
    "battery: was the item purchases with more than one battery?\n",
    "deliver_days: How many days does it takes for the product to the costumer?\n",
    "positive_rate: Does the customer gives a positive rate on this product?\n",
    "\n",
    "Format the output as json with the following keys:\n",
    "battery\n",
    "deliver_days\n",
    "positive_rate\n",
    "\n",
    "\n",
    "text:{text}\n",
    "\"\"\""
   ],
   "outputs": [],
   "execution_count": 52
  },
  {
   "metadata": {
    "ExecuteTime": {
     "end_time": "2024-12-01T08:36:34.769414Z",
     "start_time": "2024-12-01T08:36:34.764961Z"
    }
   },
   "cell_type": "code",
   "source": [
    "from langchain.prompts import ChatPromptTemplate\n",
    "prompt_template = ChatPromptTemplate.from_template(review_template)\n",
    "prompt_template"
   ],
   "id": "d3e0720eadce31ed",
   "outputs": [
    {
     "data": {
      "text/plain": [
       "ChatPromptTemplate(input_variables=['text'], input_types={}, partial_variables={}, messages=[HumanMessagePromptTemplate(prompt=PromptTemplate(input_variables=['text'], input_types={}, partial_variables={}, template='\\nFor the following text, extract the following information:\\nbattery: was the item purchases with more than one battery?\\ndeliver_days: How many days does it takes for the product to the costumer?\\npositive_rate: Does the customer gives a positive rate on this product?\\n\\ntext:{text}\\n'), additional_kwargs={})])"
      ]
     },
     "execution_count": 10,
     "metadata": {},
     "output_type": "execute_result"
    }
   ],
   "execution_count": 10
  },
  {
   "metadata": {
    "ExecuteTime": {
     "end_time": "2024-12-01T08:36:36.175896Z",
     "start_time": "2024-12-01T08:36:35.653448Z"
    }
   },
   "cell_type": "code",
   "source": [
    "from langchain_ollama import ChatOllama\n",
    "chat = ChatOllama(model='llama3.2')"
   ],
   "id": "f344705a9dcf4205",
   "outputs": [],
   "execution_count": 11
  },
  {
   "metadata": {
    "ExecuteTime": {
     "end_time": "2024-12-01T08:36:37.977486Z",
     "start_time": "2024-12-01T08:36:36.990035Z"
    }
   },
   "cell_type": "code",
   "source": "response = chat.invoke(prompt_template.format(text = customer_review))",
   "id": "64ebbb311275d136",
   "outputs": [],
   "execution_count": 12
  },
  {
   "metadata": {
    "ExecuteTime": {
     "end_time": "2024-12-01T08:36:38.628694Z",
     "start_time": "2024-12-01T08:36:38.624673Z"
    }
   },
   "cell_type": "code",
   "source": "response.content",
   "id": "3d59a3459a99f117",
   "outputs": [
    {
     "data": {
      "text/plain": [
       "'Here\\'s the extracted information:\\n\\n- battery: Yes, the item was purchased with more than one battery (it came with two batteries).\\n- deliver_days: 2 days\\n- positive_rate: The customer gave a very positive rate, stating \"Absolutely love this blower\" and saying they would purchase it again.'"
      ]
     },
     "execution_count": 13,
     "metadata": {},
     "output_type": "execute_result"
    }
   ],
   "execution_count": 13
  },
  {
   "metadata": {
    "ExecuteTime": {
     "end_time": "2024-12-01T08:37:05.066215Z",
     "start_time": "2024-12-01T08:37:05.046264Z"
    }
   },
   "cell_type": "code",
   "source": "response.content.get('positive_rate')",
   "id": "b48ae3a08e18dbfb",
   "outputs": [
    {
     "ename": "AttributeError",
     "evalue": "'str' object has no attribute 'get'",
     "output_type": "error",
     "traceback": [
      "\u001B[1;31m---------------------------------------------------------------------------\u001B[0m",
      "\u001B[1;31mAttributeError\u001B[0m                            Traceback (most recent call last)",
      "Cell \u001B[1;32mIn[14], line 1\u001B[0m\n\u001B[1;32m----> 1\u001B[0m response\u001B[38;5;241m.\u001B[39mcontent\u001B[38;5;241m.\u001B[39mget(\u001B[38;5;124m'\u001B[39m\u001B[38;5;124mpositive_rate\u001B[39m\u001B[38;5;124m'\u001B[39m)\n",
      "\u001B[1;31mAttributeError\u001B[0m: 'str' object has no attribute 'get'"
     ]
    }
   ],
   "execution_count": 14
  },
  {
   "metadata": {
    "ExecuteTime": {
     "end_time": "2024-12-01T09:05:53.864824Z",
     "start_time": "2024-12-01T09:05:53.860536Z"
    }
   },
   "cell_type": "code",
   "source": [
    "from langchain.output_parsers import ResponseSchema, StructuredOutputParser\n",
    "battery_schema = ResponseSchema(name='battery', description=\"was the item purchases with more than one battery? Output True if yes, Output False if not or unknown.\")\n",
    "deliver_days_schema = ResponseSchema(name='deliver_days', description=\"How many days does it takes for the product to the costumer? If unknown output -1\")\n",
    "positive_rate_schema = ResponseSchema(name='positive_rate', description=\"Does the customer gives a positive rate on this product? Output True if yes, Output False if not or unknown.\")\n",
    "\n",
    "response_schema = [battery_schema,deliver_days_schema, positive_rate_schema]"
   ],
   "id": "a9a9e159a2d65335",
   "outputs": [],
   "execution_count": 50
  },
  {
   "metadata": {
    "ExecuteTime": {
     "end_time": "2024-12-01T09:15:09.450005Z",
     "start_time": "2024-12-01T09:15:09.445440Z"
    }
   },
   "cell_type": "code",
   "source": [
    "output_parser = StructuredOutputParser.from_response_schemas(response_schema)\n",
    "format_instructions = output_parser.get_format_instructions()\n",
    "format_instructions"
   ],
   "id": "8bf7e59341800f4b",
   "outputs": [
    {
     "data": {
      "text/plain": [
       "'The output should be a markdown code snippet formatted in the following schema, including the leading and trailing \"```json\" and \"```\":\\n\\n```json\\n{\\n\\t\"battery\": string  // was the item purchases with more than one battery? Output True if yes, Output False if not or unknown.\\n\\t\"deliver_days\": string  // How many days does it takes for the product to the costumer? If unknown output -1\\n\\t\"positive_rate\": string  // Does the customer gives a positive rate on this product? Output True if yes, Output False if not or unknown.\\n}\\n```'"
      ]
     },
     "execution_count": 53,
     "metadata": {},
     "output_type": "execute_result"
    }
   ],
   "execution_count": 53
  },
  {
   "metadata": {
    "ExecuteTime": {
     "end_time": "2024-12-01T09:15:47.786391Z",
     "start_time": "2024-12-01T09:15:47.783216Z"
    }
   },
   "cell_type": "code",
   "source": [
    "review_template2 = \"\"\"\n",
    "For the following text, extract the following information:\n",
    "\n",
    "battery: was the item purchases with more than one battery?\n",
    "deliver_days: How many days does it takes for the product to the costumer?\n",
    "positive_rate: Does the customer gives a positive rate on this product?\n",
    "\n",
    "text:{text}\n",
    "{format_instructions}\n",
    "\"\"\""
   ],
   "id": "c57de7cc779b2885",
   "outputs": [],
   "execution_count": 54
  },
  {
   "metadata": {
    "ExecuteTime": {
     "end_time": "2024-12-01T09:15:50.250905Z",
     "start_time": "2024-12-01T09:15:50.247411Z"
    }
   },
   "cell_type": "code",
   "source": [
    "prompt_template2 = ChatPromptTemplate.from_template(review_template2)\n",
    "message2 = prompt_template2.format_messages(text = customer_review, format_instructions = format_instructions)"
   ],
   "id": "e11fe9cdfac8e944",
   "outputs": [],
   "execution_count": 55
  },
  {
   "metadata": {
    "ExecuteTime": {
     "end_time": "2024-12-01T09:15:50.943099Z",
     "start_time": "2024-12-01T09:15:50.938099Z"
    }
   },
   "cell_type": "code",
   "source": "message2",
   "id": "f6fc2e07b0af19c8",
   "outputs": [
    {
     "data": {
      "text/plain": [
       "[HumanMessage(content='\\nFor the following text, extract the following information:\\n\\nbattery: was the item purchases with more than one battery?\\ndeliver_days: How many days does it takes for the product to the costumer?\\npositive_rate: Does the customer gives a positive rate on this product?\\n\\ntext:\\nWe love this leaf blower. We use it on the porches of the house, and it\\'s amazing. We also use it almost daily to blow up the goat dingleberries in our goat barn. It starts super easy, and lasts quite a while on one battery. It comes with two batteries, so we constantly have a battery ready when the other goes low. Absolutely love this blower, and would purchase it again. It arrives in two days\\n\\nThe output should be a markdown code snippet formatted in the following schema, including the leading and trailing \"```json\" and \"```\":\\n\\n```json\\n{\\n\\t\"battery\": string  // was the item purchases with more than one battery? Output True if yes, Output False if not or unknown.\\n\\t\"deliver_days\": string  // How many days does it takes for the product to the costumer? If unknown output -1\\n\\t\"positive_rate\": string  // Does the customer gives a positive rate on this product? Output True if yes, Output False if not or unknown.\\n}\\n```\\n', additional_kwargs={}, response_metadata={})]"
      ]
     },
     "execution_count": 56,
     "metadata": {},
     "output_type": "execute_result"
    }
   ],
   "execution_count": 56
  },
  {
   "metadata": {
    "ExecuteTime": {
     "end_time": "2024-12-01T09:16:09.285816Z",
     "start_time": "2024-12-01T09:16:05.850298Z"
    }
   },
   "cell_type": "code",
   "source": [
    "response2 = chat.invoke(message2)\n",
    "response2"
   ],
   "id": "f4db02dd406c6c84",
   "outputs": [
    {
     "data": {
      "text/plain": [
       "AIMessage(content='```json\\n{\\n    \"battery\": true,\\n    \"deliver_days\": \"-1\",\\n    \"positive_rate\": true\\n}\\n```\\n\\nExplanation of the extraced information:\\n\\n- The item was purchased with more than one battery, so `battery` is `true`.\\n- We don\\'t have any information on how many days it takes for the product to reach the customer. Therefore `deliver_days` is `-1`\\n- The customer gives a positive rate on this product, so `positive_rate` is `true`.', additional_kwargs={}, response_metadata={'model': 'llama3.2', 'created_at': '2024-12-01T09:16:09.2826567Z', 'done': True, 'done_reason': 'stop', 'total_duration': 3428292800, 'load_duration': 1637500200, 'prompt_eval_count': 294, 'prompt_eval_duration': 308000000, 'eval_count': 105, 'eval_duration': 1480000000, 'message': Message(role='assistant', content='', images=None, tool_calls=None)}, id='run-74442ff2-016c-40ee-be56-eefce76c38f0-0', usage_metadata={'input_tokens': 294, 'output_tokens': 105, 'total_tokens': 399})"
      ]
     },
     "execution_count": 57,
     "metadata": {},
     "output_type": "execute_result"
    }
   ],
   "execution_count": 57
  },
  {
   "metadata": {
    "ExecuteTime": {
     "end_time": "2024-12-01T09:01:28.171921Z",
     "start_time": "2024-12-01T09:01:28.167925Z"
    }
   },
   "cell_type": "code",
   "source": "response2.content",
   "id": "6cc99e03b6c4ba9f",
   "outputs": [
    {
     "data": {
      "text/plain": [
       "'Here is the extracted information:\\n\\n- battery: TRUE (the item comes with more than one battery)\\n- deliver_days: 2 days\\n- positive_rate: TRUE (the customer gave a positive review and would purchase it again)'"
      ]
     },
     "execution_count": 47,
     "metadata": {},
     "output_type": "execute_result"
    }
   ],
   "execution_count": 47
  },
  {
   "metadata": {
    "ExecuteTime": {
     "end_time": "2024-12-01T08:56:01.567748Z",
     "start_time": "2024-12-01T08:56:00.588574Z"
    }
   },
   "cell_type": "code",
   "source": [
    "response2 = chat.invoke(prompt_template2.format_messages(text = customer_review, format_instructions = format_instructions))\n",
    "response2.content"
   ],
   "id": "5c53d015bb463552",
   "outputs": [
    {
     "data": {
      "text/plain": [
       "'Here is the extracted information:\\n\\n- battery: Yes, the product was purchased with more than one battery (comes with 2 batteries).\\n- deliver_days: The product takes 2 days to arrive at the customer.\\n- positive_rate: The customer gave a very positive rate, stating they \"absolutely love\" the product and would purchase it again.'"
      ]
     },
     "execution_count": 41,
     "metadata": {},
     "output_type": "execute_result"
    }
   ],
   "execution_count": 41
  },
  {
   "metadata": {
    "ExecuteTime": {
     "end_time": "2024-12-01T09:16:26.410602Z",
     "start_time": "2024-12-01T09:16:26.401295Z"
    }
   },
   "cell_type": "code",
   "source": [
    "output_dict = output_parser.parse(response2.content)\n",
    "output_dict"
   ],
   "id": "7034ebacffda2156",
   "outputs": [
    {
     "data": {
      "text/plain": [
       "{'battery': True, 'deliver_days': '-1', 'positive_rate': True}"
      ]
     },
     "execution_count": 58,
     "metadata": {},
     "output_type": "execute_result"
    }
   ],
   "execution_count": 58
  },
  {
   "metadata": {
    "ExecuteTime": {
     "end_time": "2024-12-01T09:19:05.421192Z",
     "start_time": "2024-12-01T09:19:05.416194Z"
    }
   },
   "cell_type": "code",
   "source": "output_dict.get('battery')",
   "id": "e012991dd0ee71d3",
   "outputs": [
    {
     "data": {
      "text/plain": [
       "True"
      ]
     },
     "execution_count": 59,
     "metadata": {},
     "output_type": "execute_result"
    }
   ],
   "execution_count": 59
  },
  {
   "metadata": {},
   "cell_type": "code",
   "outputs": [],
   "execution_count": null,
   "source": "",
   "id": "5d2eb5ebad8c3815"
  }
 ],
 "metadata": {
  "kernelspec": {
   "display_name": "pyllm",
   "language": "python",
   "name": "llm"
  },
  "language_info": {
   "codemirror_mode": {
    "name": "ipython",
    "version": 2
   },
   "file_extension": ".py",
   "mimetype": "text/x-python",
   "name": "python",
   "nbconvert_exporter": "python",
   "pygments_lexer": "ipython2",
   "version": "2.7.6"
  }
 },
 "nbformat": 4,
 "nbformat_minor": 5
}
