{
 "cells": [
  {
   "cell_type": "code",
   "id": "initial_id",
   "metadata": {
    "collapsed": true,
    "ExecuteTime": {
     "end_time": "2024-12-01T07:54:25.877457Z",
     "start_time": "2024-12-01T07:54:24.938546Z"
    }
   },
   "source": [
    "from langchain.prompts import ChatPromptTemplate\n",
    "template_string = \"\"\"Translate the text that is delimited by triple backticks into a style that is {style}.\n",
    "text: '''{text}'''\n",
    "\"\"\"\n",
    "prompt_template = ChatPromptTemplate.from_template(template_string)"
   ],
   "outputs": [],
   "execution_count": 1
  },
  {
   "metadata": {
    "ExecuteTime": {
     "end_time": "2024-12-01T07:54:53.730276Z",
     "start_time": "2024-12-01T07:54:53.723679Z"
    }
   },
   "cell_type": "code",
   "source": "prompt_template.messages[0].prompt",
   "id": "bf4bbf55c3bfcae7",
   "outputs": [
    {
     "data": {
      "text/plain": [
       "PromptTemplate(input_variables=['style', 'text'], input_types={}, partial_variables={}, template=\"Translate the text that is delimited by triple backticks into a style that is {style}.\\ntext: '''{text}'''\\n\")"
      ]
     },
     "execution_count": 2,
     "metadata": {},
     "output_type": "execute_result"
    }
   ],
   "execution_count": 2
  },
  {
   "metadata": {
    "ExecuteTime": {
     "end_time": "2024-12-01T07:56:17.984875Z",
     "start_time": "2024-12-01T07:56:17.981715Z"
    }
   },
   "cell_type": "code",
   "source": "customer_style = \"\"\"American English in a calm and respectful tone\"\"\"",
   "id": "957132cde67b6d6",
   "outputs": [],
   "execution_count": 3
  },
  {
   "metadata": {
    "ExecuteTime": {
     "end_time": "2024-12-01T07:57:42.562401Z",
     "start_time": "2024-12-01T07:57:42.559398Z"
    }
   },
   "cell_type": "code",
   "source": "customer_email = '''Arr, I be fuming that me blender lid flew off and splattered me kitchen walls with smoothie! And to make matters worse, the warrraty don't cover the cost of cleaning up me kitchen. I need your help right now, matey!'''",
   "id": "30e7ef46163e32f4",
   "outputs": [],
   "execution_count": 4
  },
  {
   "metadata": {
    "ExecuteTime": {
     "end_time": "2024-12-01T07:58:08.838573Z",
     "start_time": "2024-12-01T07:58:08.834856Z"
    }
   },
   "cell_type": "code",
   "source": "customer_message = prompt_template.format(style=customer_style, text=customer_email)",
   "id": "7a25939e85e6dddd",
   "outputs": [],
   "execution_count": 5
  },
  {
   "metadata": {
    "ExecuteTime": {
     "end_time": "2024-12-01T07:58:23.777177Z",
     "start_time": "2024-12-01T07:58:23.772142Z"
    }
   },
   "cell_type": "code",
   "source": "customer_message",
   "id": "352ff8c03a25518e",
   "outputs": [
    {
     "data": {
      "text/plain": [
       "\"Human: Translate the text that is delimited by triple backticks into a style that is American English in a calm and respectful tone.\\ntext: '''Arr, I be fuming that me blender lid flew off and splattered me kitchen walls with smoothie! And to make matters worse, the warrraty don't cover the cost of cleaning up me kitchen. I need your help right now, matey!'''\\n\""
      ]
     },
     "execution_count": 6,
     "metadata": {},
     "output_type": "execute_result"
    }
   ],
   "execution_count": 6
  },
  {
   "metadata": {
    "ExecuteTime": {
     "end_time": "2024-12-01T08:00:07.146143Z",
     "start_time": "2024-12-01T08:00:06.267232Z"
    }
   },
   "cell_type": "code",
   "source": [
    "from langchain_ollama import ChatOllama\n",
    "chat = ChatOllama(model='llama3.2')"
   ],
   "id": "1cb6c7fbe4d0a534",
   "outputs": [],
   "execution_count": 7
  },
  {
   "metadata": {
    "ExecuteTime": {
     "end_time": "2024-12-01T08:00:49.403409Z",
     "start_time": "2024-12-01T08:00:44.549653Z"
    }
   },
   "cell_type": "code",
   "source": "customer_response = chat.invoke(customer_message)",
   "id": "40366bac9af07881",
   "outputs": [],
   "execution_count": 9
  },
  {
   "metadata": {
    "ExecuteTime": {
     "end_time": "2024-12-01T08:00:54.390074Z",
     "start_time": "2024-12-01T08:00:54.385291Z"
    }
   },
   "cell_type": "code",
   "source": "customer_response",
   "id": "2483598845c45c4d",
   "outputs": [
    {
     "data": {
      "text/plain": [
       "AIMessage(content='Here\\'s a rewritten version of the text in an American English tone that conveys a calm and respectful attitude:\\n\\n\"I\\'m really frustrated that my blender lid flew off and spilled a smoothie all over my kitchen walls. To make matters worse, it seems like I\\'m on my own to cover the cost of cleaning up. Could you please help me out right now?\"\\n\\nI made the following changes to adapt the text to American English:\\n\\n* Changed \"Arr\" to a more neutral greeting, such as \"I\\'m really frustrated...\"\\n* Swapped \"be fuming\" for \"am really frustrated\"\\n* Exchanged \"me\" for \"my\" (American English typically uses \"my\" instead of \"me\")\\n* Replaced \"warrraty\" with the correct spelling \"warranty\"\\n* Changed \"don\\'t cover\" to \"doesn\\'t cover\"\\n* Swapped \"matey\" for a more neutral expression, such as \"please help me out\"\\n\\nI also toned down the language to convey a sense of calm and respect, while still expressing the person\\'s frustration.', additional_kwargs={}, response_metadata={'model': 'llama3.2', 'created_at': '2024-12-01T08:00:49.4014221Z', 'done': True, 'done_reason': 'stop', 'total_duration': 4847718000, 'load_duration': 1638792900, 'prompt_eval_count': 108, 'prompt_eval_duration': 266000000, 'eval_count': 216, 'eval_duration': 2941000000, 'message': Message(role='assistant', content='', images=None, tool_calls=None)}, id='run-24bcde2b-6bf8-4263-b678-59593e9dc947-0', usage_metadata={'input_tokens': 108, 'output_tokens': 216, 'total_tokens': 324})"
      ]
     },
     "execution_count": 10,
     "metadata": {},
     "output_type": "execute_result"
    }
   ],
   "execution_count": 10
  },
  {
   "metadata": {
    "ExecuteTime": {
     "end_time": "2024-12-01T08:01:36.796353Z",
     "start_time": "2024-12-01T08:01:36.792484Z"
    }
   },
   "cell_type": "code",
   "source": "print(customer_response.content)",
   "id": "66bbab4579755bb8",
   "outputs": [
    {
     "name": "stdout",
     "output_type": "stream",
     "text": [
      "Here's a rewritten version of the text in an American English tone that conveys a calm and respectful attitude:\n",
      "\n",
      "\"I'm really frustrated that my blender lid flew off and spilled a smoothie all over my kitchen walls. To make matters worse, it seems like I'm on my own to cover the cost of cleaning up. Could you please help me out right now?\"\n",
      "\n",
      "I made the following changes to adapt the text to American English:\n",
      "\n",
      "* Changed \"Arr\" to a more neutral greeting, such as \"I'm really frustrated...\"\n",
      "* Swapped \"be fuming\" for \"am really frustrated\"\n",
      "* Exchanged \"me\" for \"my\" (American English typically uses \"my\" instead of \"me\")\n",
      "* Replaced \"warrraty\" with the correct spelling \"warranty\"\n",
      "* Changed \"don't cover\" to \"doesn't cover\"\n",
      "* Swapped \"matey\" for a more neutral expression, such as \"please help me out\"\n",
      "\n",
      "I also toned down the language to convey a sense of calm and respect, while still expressing the person's frustration.\n"
     ]
    }
   ],
   "execution_count": 11
  },
  {
   "metadata": {
    "ExecuteTime": {
     "end_time": "2024-12-01T08:17:27.151119Z",
     "start_time": "2024-12-01T08:17:27.147349Z"
    }
   },
   "cell_type": "code",
   "source": "service_reply = 'Hey there customer, the warranty does not cover cleaning expense for your kitchen because it is your fault that you missed your blender by forgetting to put the lid on before starting the blender. Tough luck! See ya'",
   "id": "b16d1360ec3f85a6",
   "outputs": [],
   "execution_count": 12
  },
  {
   "metadata": {
    "ExecuteTime": {
     "end_time": "2024-12-01T08:17:51.836976Z",
     "start_time": "2024-12-01T08:17:51.833553Z"
    }
   },
   "cell_type": "code",
   "source": "service_style_pirate = 'a polite tone that speaks in English pirate'",
   "id": "f3ee638f9225eb9f",
   "outputs": [],
   "execution_count": 13
  },
  {
   "metadata": {
    "ExecuteTime": {
     "end_time": "2024-12-01T08:19:18.177235Z",
     "start_time": "2024-12-01T08:19:18.172772Z"
    }
   },
   "cell_type": "code",
   "source": [
    "service_message = prompt_template.format(style=service_style_pirate, text=service_reply)\n",
    "service_message"
   ],
   "id": "4220a6aa3c9619f7",
   "outputs": [
    {
     "data": {
      "text/plain": [
       "\"Human: Translate the text that is delimited by triple backticks into a style that is a polite tone that speaks in English pirate.\\ntext: '''Hey there customer, the warranty does not cover cleaning expense for your kitchen because it is your fault that you missed your blender by forgetting to put the lid on before starting the blender. Tough luck! See ya'''\\n\""
      ]
     },
     "execution_count": 18,
     "metadata": {},
     "output_type": "execute_result"
    }
   ],
   "execution_count": 18
  },
  {
   "metadata": {
    "ExecuteTime": {
     "end_time": "2024-12-01T08:19:55.847869Z",
     "start_time": "2024-12-01T08:19:49.713501Z"
    }
   },
   "cell_type": "code",
   "source": "service_response = chat.invoke(service_message)",
   "id": "29e442846607ce0e",
   "outputs": [],
   "execution_count": 19
  },
  {
   "metadata": {
    "ExecuteTime": {
     "end_time": "2024-12-01T08:19:56.762107Z",
     "start_time": "2024-12-01T08:19:56.757597Z"
    }
   },
   "cell_type": "code",
   "source": "service_response",
   "id": "31f960efc420785d",
   "outputs": [
    {
     "data": {
      "text/plain": [
       "AIMessage(content='\"Ahoy, dear customer! I be hopin\\' this message finds ye in good health and high spirits. Unfortunately, our warranty policy be not coverin\\' any cleaning expenses for yer kitchen blender, matey. It seems ye forgot to secure the lid before turnin\\' on the contraption, savvy? Alas, that means ye\\'ll be bearin\\' the cost o\\' cleanin\\' up yer own mess, me hearty! Sorry fer the inconvenience, and I wish ye fair winds in yer future cookin\\' endeavors!\"', additional_kwargs={}, response_metadata={'model': 'llama3.2', 'created_at': '2024-12-01T08:19:55.8458166Z', 'done': True, 'done_reason': 'stop', 'total_duration': 6128299000, 'load_duration': 4361499300, 'prompt_eval_count': 96, 'prompt_eval_duration': 213000000, 'eval_count': 109, 'eval_duration': 1551000000, 'message': Message(role='assistant', content='', images=None, tool_calls=None)}, id='run-d53915d7-68dd-4d01-ba6a-95772e5d378c-0', usage_metadata={'input_tokens': 96, 'output_tokens': 109, 'total_tokens': 205})"
      ]
     },
     "execution_count": 20,
     "metadata": {},
     "output_type": "execute_result"
    }
   ],
   "execution_count": 20
  },
  {
   "metadata": {
    "ExecuteTime": {
     "end_time": "2024-12-01T08:20:09.484884Z",
     "start_time": "2024-12-01T08:20:09.480324Z"
    }
   },
   "cell_type": "code",
   "source": "service_response.content",
   "id": "300c156e1681d6f0",
   "outputs": [
    {
     "data": {
      "text/plain": [
       "'\"Ahoy, dear customer! I be hopin\\' this message finds ye in good health and high spirits. Unfortunately, our warranty policy be not coverin\\' any cleaning expenses for yer kitchen blender, matey. It seems ye forgot to secure the lid before turnin\\' on the contraption, savvy? Alas, that means ye\\'ll be bearin\\' the cost o\\' cleanin\\' up yer own mess, me hearty! Sorry fer the inconvenience, and I wish ye fair winds in yer future cookin\\' endeavors!\"'"
      ]
     },
     "execution_count": 21,
     "metadata": {},
     "output_type": "execute_result"
    }
   ],
   "execution_count": 21
  },
  {
   "metadata": {},
   "cell_type": "code",
   "outputs": [],
   "execution_count": null,
   "source": "",
   "id": "d4f29b74ffac202c"
  }
 ],
 "metadata": {
  "kernelspec": {
   "display_name": "pyllm",
   "language": "python",
   "name": "llm"
  },
  "language_info": {
   "codemirror_mode": {
    "name": "ipython",
    "version": 2
   },
   "file_extension": ".py",
   "mimetype": "text/x-python",
   "name": "python",
   "nbconvert_exporter": "python",
   "pygments_lexer": "ipython2",
   "version": "2.7.6"
  }
 },
 "nbformat": 4,
 "nbformat_minor": 5
}
