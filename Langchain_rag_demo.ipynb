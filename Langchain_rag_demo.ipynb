{
 "cells": [
  {
   "cell_type": "code",
   "id": "initial_id",
   "metadata": {
    "collapsed": true,
    "ExecuteTime": {
     "end_time": "2024-12-01T07:03:09.778476Z",
     "start_time": "2024-12-01T07:03:08.244106Z"
    }
   },
   "source": [
    "import os\n",
    "import getpass\n",
    "import bs4\n",
    "from langchain_community.document_loaders import WebBaseLoader\n",
    "from langchain_core.messages import HumanMessage\n",
    "\n",
    "os.environ['USER_AGENT'] = 'myagent'\n",
    "\n",
    "# Only keep post title, headers, and content from the full HTML.\n",
    "bs4_strainer = bs4.SoupStrainer(class_=(\"post-title\", \"post-header\", \"post-content\"))\n",
    "loader = WebBaseLoader(\n",
    "    web_paths=(\"https://lilianweng.github.io/posts/2023-06-23-agent/\",),\n",
    "    bs_kwargs={\"parse_only\": bs4_strainer},\n",
    ")\n",
    "docs = loader.load()\n",
    "\n",
    "assert len(docs) == 1\n",
    "print(f\"Total characters: {len(docs[0].page_content)}\")"
   ],
   "outputs": [
    {
     "name": "stderr",
     "output_type": "stream",
     "text": [
      "USER_AGENT environment variable not set, consider setting it to identify your requests.\n"
     ]
    },
    {
     "name": "stdout",
     "output_type": "stream",
     "text": [
      "Total characters: 43131\n"
     ]
    }
   ],
   "execution_count": 1
  },
  {
   "metadata": {
    "ExecuteTime": {
     "end_time": "2024-12-01T07:18:24.739850Z",
     "start_time": "2024-12-01T07:18:24.187525Z"
    }
   },
   "cell_type": "code",
   "source": [
    "from langchain_ollama import ChatOllama\n",
    "\n",
    "llm = ChatOllama(model=\"llama3.2\")"
   ],
   "id": "94f4c8f197df1dd9",
   "outputs": [],
   "execution_count": 14
  },
  {
   "metadata": {
    "ExecuteTime": {
     "end_time": "2024-12-01T07:03:33.168790Z",
     "start_time": "2024-12-01T07:03:33.164777Z"
    }
   },
   "cell_type": "code",
   "source": "print(docs[0].page_content[:500])",
   "id": "208e77bad55de8",
   "outputs": [
    {
     "name": "stdout",
     "output_type": "stream",
     "text": [
      "\n",
      "\n",
      "      LLM Powered Autonomous Agents\n",
      "    \n",
      "Date: June 23, 2023  |  Estimated Reading Time: 31 min  |  Author: Lilian Weng\n",
      "\n",
      "\n",
      "Building agents with LLM (large language model) as its core controller is a cool concept. Several proof-of-concepts demos, such as AutoGPT, GPT-Engineer and BabyAGI, serve as inspiring examples. The potentiality of LLM extends beyond generating well-written copies, stories, essays and programs; it can be framed as a powerful general problem solver.\n",
      "Agent System Overview#\n",
      "In\n"
     ]
    }
   ],
   "execution_count": 2
  },
  {
   "metadata": {
    "ExecuteTime": {
     "end_time": "2024-12-01T07:03:58.621746Z",
     "start_time": "2024-12-01T07:03:58.605652Z"
    }
   },
   "cell_type": "code",
   "source": [
    "from langchain_text_splitters import RecursiveCharacterTextSplitter\n",
    "\n",
    "text_splitter = RecursiveCharacterTextSplitter(\n",
    "    chunk_size=1000,  # chunk size (characters)\n",
    "    chunk_overlap=200,  # chunk overlap (characters)\n",
    "    add_start_index=True,  # track index in original document\n",
    ")\n",
    "all_splits = text_splitter.split_documents(docs)\n",
    "\n",
    "print(f\"Split blog post into {len(all_splits)} sub-documents.\")"
   ],
   "id": "a1ae6bc3e9c93c62",
   "outputs": [
    {
     "name": "stdout",
     "output_type": "stream",
     "text": [
      "Split blog post into 66 sub-documents.\n"
     ]
    }
   ],
   "execution_count": 3
  },
  {
   "metadata": {
    "ExecuteTime": {
     "end_time": "2024-12-01T07:04:06.523475Z",
     "start_time": "2024-12-01T07:04:06.516007Z"
    }
   },
   "cell_type": "code",
   "source": "all_splits[1]",
   "id": "f5be8ade3d4d758b",
   "outputs": [
    {
     "data": {
      "text/plain": [
       "Document(metadata={'source': 'https://lilianweng.github.io/posts/2023-06-23-agent/', 'start_index': 971}, page_content='Memory\\n\\nShort-term memory: I would consider all the in-context learning (See Prompt Engineering) as utilizing short-term memory of the model to learn.\\nLong-term memory: This provides the agent with the capability to retain and recall (infinite) information over extended periods, often by leveraging an external vector store and fast retrieval.\\n\\n\\nTool use\\n\\nThe agent learns to call external APIs for extra information that is missing from the model weights (often hard to change after pre-training), including current information, code execution capability, access to proprietary information sources and more.')"
      ]
     },
     "execution_count": 4,
     "metadata": {},
     "output_type": "execute_result"
    }
   ],
   "execution_count": 4
  },
  {
   "metadata": {
    "ExecuteTime": {
     "end_time": "2024-12-01T07:04:18.892593Z",
     "start_time": "2024-12-01T07:04:17.850473Z"
    }
   },
   "cell_type": "code",
   "source": [
    "from langchain_core.vectorstores import InMemoryVectorStore\n",
    "from langchain_ollama import OllamaEmbeddings, ChatOllama\n",
    "embeddings = OllamaEmbeddings(model=\"llama3.2\")\n",
    "vector_store = InMemoryVectorStore(embeddings)"
   ],
   "id": "a6cac20834dbd1a4",
   "outputs": [],
   "execution_count": 5
  },
  {
   "metadata": {
    "ExecuteTime": {
     "end_time": "2024-12-01T07:16:15.553522Z",
     "start_time": "2024-12-01T07:16:11.229637Z"
    }
   },
   "cell_type": "code",
   "source": [
    "document_ids = vector_store.add_documents(documents=all_splits)\n",
    "\n",
    "print(document_ids[:3])"
   ],
   "id": "831b7c0187e5d701",
   "outputs": [
    {
     "name": "stdout",
     "output_type": "stream",
     "text": [
      "['e0955b6e-11c6-4b25-b4d5-0b42bad28b97', '015f10ba-02e7-4749-abea-cb1cd7dec72b', 'fcc47652-2958-4db1-995c-9ac5d66eb10e']\n"
     ]
    }
   ],
   "execution_count": 7
  },
  {
   "metadata": {
    "ExecuteTime": {
     "end_time": "2024-12-01T07:16:30.809628Z",
     "start_time": "2024-12-01T07:16:30.122446Z"
    }
   },
   "cell_type": "code",
   "source": [
    "from langchain import hub\n",
    "\n",
    "prompt = hub.pull(\"rlm/rag-prompt\")\n",
    "\n",
    "example_messages = prompt.invoke(\n",
    "    {\"context\": \"(context goes here)\", \"question\": \"(question goes here)\"}\n",
    ").to_messages()\n",
    "\n",
    "assert len(example_messages) == 1\n",
    "print(example_messages[0].content)"
   ],
   "id": "951e2205642481e3",
   "outputs": [
    {
     "name": "stderr",
     "output_type": "stream",
     "text": [
      "C:\\Users\\Administrator\\anaconda3\\envs\\llm\\Lib\\site-packages\\langsmith\\client.py:241: LangSmithMissingAPIKeyWarning: API key must be provided when using hosted LangSmith API\n",
      "  warnings.warn(\n"
     ]
    },
    {
     "name": "stdout",
     "output_type": "stream",
     "text": [
      "You are an assistant for question-answering tasks. Use the following pieces of retrieved context to answer the question. If you don't know the answer, just say that you don't know. Use three sentences maximum and keep the answer concise.\n",
      "Question: (question goes here) \n",
      "Context: (context goes here) \n",
      "Answer:\n"
     ]
    }
   ],
   "execution_count": 8
  },
  {
   "metadata": {
    "ExecuteTime": {
     "end_time": "2024-12-01T07:16:51.445062Z",
     "start_time": "2024-12-01T07:16:51.440866Z"
    }
   },
   "cell_type": "code",
   "source": [
    "from langchain_core.documents import Document\n",
    "from typing_extensions import List, TypedDict\n",
    "\n",
    "\n",
    "class State(TypedDict):\n",
    "    question: str\n",
    "    context: List[Document]\n",
    "    answer: str"
   ],
   "id": "ff3249696e792a4e",
   "outputs": [],
   "execution_count": 9
  },
  {
   "metadata": {
    "ExecuteTime": {
     "end_time": "2024-12-01T07:17:00.865705Z",
     "start_time": "2024-12-01T07:17:00.861320Z"
    }
   },
   "cell_type": "code",
   "source": [
    "def retrieve(state: State):\n",
    "    retrieved_docs = vector_store.similarity_search(state[\"question\"])\n",
    "    return {\"context\": retrieved_docs}\n",
    "\n",
    "\n",
    "def generate(state: State):\n",
    "    docs_content = \"\\n\\n\".join(doc.page_content for doc in state[\"context\"])\n",
    "    messages = prompt.invoke({\"question\": state[\"question\"], \"context\": docs_content})\n",
    "    response = llm.invoke(messages)\n",
    "    return {\"answer\": response.content}"
   ],
   "id": "d65ca5b59545f7bc",
   "outputs": [],
   "execution_count": 10
  },
  {
   "metadata": {
    "ExecuteTime": {
     "end_time": "2024-12-01T07:17:29.225236Z",
     "start_time": "2024-12-01T07:17:29.168505Z"
    }
   },
   "cell_type": "code",
   "source": [
    "from langgraph.graph import START, StateGraph\n",
    "\n",
    "graph_builder = StateGraph(State).add_sequence([retrieve, generate])\n",
    "graph_builder.add_edge(START, \"retrieve\")\n",
    "graph = graph_builder.compile()"
   ],
   "id": "4fc98373571644f4",
   "outputs": [],
   "execution_count": 11
  },
  {
   "metadata": {
    "ExecuteTime": {
     "end_time": "2024-12-01T07:17:37.132180Z",
     "start_time": "2024-12-01T07:17:36.196810Z"
    }
   },
   "cell_type": "code",
   "source": [
    "from IPython.display import Image, display\n",
    "\n",
    "display(Image(graph.get_graph().draw_mermaid_png()))"
   ],
   "id": "2646e98525721713",
   "outputs": [
    {
     "data": {
      "image/png": "[encoded data removed]",
      "text/plain": [
       "<IPython.core.display.Image object>"
      ]
     },
     "metadata": {},
     "output_type": "display_data"
    }
   ],
   "execution_count": 12
  },
  {
   "metadata": {
    "ExecuteTime": {
     "end_time": "2024-12-01T07:18:30.711335Z",
     "start_time": "2024-12-01T07:18:29.332538Z"
    }
   },
   "cell_type": "code",
   "source": [
    "result = graph.invoke({\"question\": \"What is Self-Reflection?\"})\n",
    "\n",
    "print(f'Context: {result[\"context\"]}\\n\\n')\n",
    "print(f'Answer: {result[\"answer\"]}')"
   ],
   "id": "5a13978e43d07364",
   "outputs": [
    {
     "name": "stdout",
     "output_type": "stream",
     "text": [
      "Context: [Document(id='fcc47652-2958-4db1-995c-9ac5d66eb10e', metadata={'source': 'https://lilianweng.github.io/posts/2023-06-23-agent/', 'start_index': 1585}, page_content='Fig. 1. Overview of a LLM-powered autonomous agent system.\\nComponent One: Planning#\\nA complicated task usually involves many steps. An agent needs to know what they are and plan ahead.\\nTask Decomposition#\\nChain of thought (CoT; Wei et al. 2022) has become a standard prompting technique for enhancing model performance on complex tasks. The model is instructed to “think step by step” to utilize more test-time computation to decompose hard tasks into smaller and simpler steps. CoT transforms big tasks into multiple manageable tasks and shed lights into an interpretation of the model’s thinking process.'), Document(id='23a1ae37-ee67-4640-a2b8-ba8dca92bf77', metadata={'source': 'https://lilianweng.github.io/posts/2023-06-23-agent/', 'start_index': 11628}, page_content='Fig. 8. Categorization of human memory.\\nWe can roughly consider the following mappings:\\n\\nSensory memory as learning embedding representations for raw inputs, including text, image or other modalities;\\nShort-term memory as in-context learning. It is short and finite, as it is restricted by the finite context window length of Transformer.\\nLong-term memory as the external vector store that the agent can attend to at query time, accessible via fast retrieval.'), Document(id='bd63789f-560b-4cd9-b70d-ca60cabbe963', metadata={'source': 'https://lilianweng.github.io/posts/2023-06-23-agent/', 'start_index': 4317}, page_content='Fig. 2.  Examples of reasoning trajectories for knowledge-intensive tasks (e.g. HotpotQA, FEVER) and decision-making tasks (e.g. AlfWorld Env, WebShop). (Image source: Yao et al. 2023).\\nIn both experiments on knowledge-intensive tasks and decision-making tasks, ReAct works better than the Act-only baseline where Thought: … step is removed.\\nReflexion (Shinn & Labash 2023) is a framework to equips agents with dynamic memory and self-reflection capabilities to improve reasoning skills. Reflexion has a standard RL setup, in which the reward model provides a simple binary reward and the action space follows the setup in ReAct where the task-specific action space is augmented with language to enable complex reasoning steps. After each action $a_t$, the agent computes a heuristic $h_t$ and optionally may decide to reset the environment to start a new trial depending on the self-reflection results.'), Document(id='92caf85b-bbf5-4c85-b766-eef85fedda67', metadata={'source': 'https://lilianweng.github.io/posts/2023-06-23-agent/', 'start_index': 41421}, page_content='[6] Google Blog. “Announcing ScaNN: Efficient Vector Similarity Search” July 28, 2020.\\n[7] https://chat.openai.com/share/46ff149e-a4c7-4dd7-a800-fc4a642ea389\\n[8] Shinn & Labash. “Reflexion: an autonomous agent with dynamic memory and self-reflection” arXiv preprint arXiv:2303.11366 (2023).\\n[9] Laskin et al. “In-context Reinforcement Learning with Algorithm Distillation” ICLR 2023.\\n[10] Karpas et al. “MRKL Systems A modular, neuro-symbolic architecture that combines large language models, external knowledge sources and discrete reasoning.” arXiv preprint arXiv:2205.00445 (2022).\\n[11] Nakano et al. “Webgpt: Browser-assisted question-answering with human feedback.” arXiv preprint arXiv:2112.09332 (2021).\\n[12] Parisi et al. “TALM: Tool Augmented Language Models”\\n[13] Schick et al. “Toolformer: Language Models Can Teach Themselves to Use Tools.” arXiv preprint arXiv:2302.04761 (2023).\\n[14] Weaviate Blog. Why is Vector Search so fast? Sep 13, 2022.')]\n",
      "\n",
      "\n",
      "Answer: Self-Reflection refers to a framework that enables autonomous agents with dynamic memory and self-reflection capabilities to improve reasoning skills. It involves computing a heuristic after each action and optionally deciding to reset the environment based on the results. Reflexion aims to equip agents with better self-awareness and adaptability in complex tasks.\n"
     ]
    }
   ],
   "execution_count": 15
  },
  {
   "metadata": {
    "ExecuteTime": {
     "end_time": "2024-12-01T07:22:41.601234Z",
     "start_time": "2024-12-01T07:22:41.596985Z"
    }
   },
   "cell_type": "code",
   "source": "query = 'What are the key components of an agent system?'",
   "id": "4b0b25ed08dffdd0",
   "outputs": [],
   "execution_count": 16
  },
  {
   "metadata": {
    "ExecuteTime": {
     "end_time": "2024-12-01T07:23:05.400352Z",
     "start_time": "2024-12-01T07:23:05.303838Z"
    }
   },
   "cell_type": "code",
   "source": "results = vector_store.similarity_search(query, k=2)",
   "id": "1b4da2c67f0515cc",
   "outputs": [],
   "execution_count": 17
  },
  {
   "metadata": {
    "ExecuteTime": {
     "end_time": "2024-12-01T07:23:09.870366Z",
     "start_time": "2024-12-01T07:23:09.865573Z"
    }
   },
   "cell_type": "code",
   "source": "results\n",
   "id": "efd36b26c2c32267",
   "outputs": [
    {
     "data": {
      "text/plain": [
       "[Document(id='2bd7f318-3c40-47f5-a635-9f730e411de7', metadata={'source': 'https://lilianweng.github.io/posts/2023-06-23-agent/', 'start_index': 17804}, page_content='The AI assistant can parse user input to several tasks: [{\"task\": task, \"id\", task_id, \"dep\": dependency_task_ids, \"args\": {\"text\": text, \"image\": URL, \"audio\": URL, \"video\": URL}}]. The \"dep\" field denotes the id of the previous task which generates a new resource that the current task relies on. A special tag \"-task_id\" refers to the generated text image, audio and video in the dependency task with id as task_id. The task MUST be selected from the following options: {{ Available Task List }}. There is a logical relationship between tasks, please note their order. If the user input can\\'t be parsed, you need to reply empty JSON. Here are several cases for your reference: {{ Demonstrations }}. The chat history is recorded as {{ Chat History }}. From this chat history, you can find the path of the user-mentioned resources for your task planning.'),\n",
       " Document(id='af77d94a-75d0-4e88-9451-06952b1e67cf', metadata={'source': 'https://lilianweng.github.io/posts/2023-06-23-agent/', 'start_index': 20471}, page_content='API-Bank (Li et al. 2023) is a benchmark for evaluating the performance of tool-augmented LLMs. It contains 53 commonly used API tools, a complete tool-augmented LLM workflow, and 264 annotated dialogues that involve 568 API calls. The selection of APIs is quite diverse, including search engines, calculator, calendar queries, smart home control, schedule management, health data management, account authentication workflow and more. Because there are a large number of APIs, LLM first has access to API search engine to find the right API to call and then uses the corresponding documentation to make a call.')]"
      ]
     },
     "execution_count": 18,
     "metadata": {},
     "output_type": "execute_result"
    }
   ],
   "execution_count": 18
  },
  {
   "metadata": {
    "ExecuteTime": {
     "end_time": "2024-12-01T07:30:57.925040Z",
     "start_time": "2024-12-01T07:30:57.920939Z"
    }
   },
   "cell_type": "code",
   "source": "results[1]",
   "id": "fab55e30abc4ab06",
   "outputs": [
    {
     "data": {
      "text/plain": [
       "Document(id='af77d94a-75d0-4e88-9451-06952b1e67cf', metadata={'source': 'https://lilianweng.github.io/posts/2023-06-23-agent/', 'start_index': 20471}, page_content='API-Bank (Li et al. 2023) is a benchmark for evaluating the performance of tool-augmented LLMs. It contains 53 commonly used API tools, a complete tool-augmented LLM workflow, and 264 annotated dialogues that involve 568 API calls. The selection of APIs is quite diverse, including search engines, calculator, calendar queries, smart home control, schedule management, health data management, account authentication workflow and more. Because there are a large number of APIs, LLM first has access to API search engine to find the right API to call and then uses the corresponding documentation to make a call.')"
      ]
     },
     "execution_count": 20,
     "metadata": {},
     "output_type": "execute_result"
    }
   ],
   "execution_count": 20
  },
  {
   "metadata": {
    "ExecuteTime": {
     "end_time": "2024-12-01T07:35:33.301273Z",
     "start_time": "2024-12-01T07:35:33.297667Z"
    }
   },
   "cell_type": "code",
   "source": [
    "def augement_prompt(query:str):\n",
    "    results = vector_store.similarity_search(query, k=3)\n",
    "    source_knowledge = '\\n'.join([x.page_content for x in results])\n",
    "    augement_prompt = f\"\"\"Using the contets below, answer the query.\n",
    "    \n",
    "    contexts:\n",
    "    {source_knowledge}\n",
    "    \n",
    "    query:{query}\"\"\"\n",
    "    \n",
    "    return augement_prompt"
   ],
   "id": "1b798be031260d1f",
   "outputs": [],
   "execution_count": 24
  },
  {
   "metadata": {
    "ExecuteTime": {
     "end_time": "2024-12-01T07:46:07.415004Z",
     "start_time": "2024-12-01T07:46:07.360236Z"
    }
   },
   "cell_type": "code",
   "source": [
    "query = 'What are the Types of Memory ?'\n",
    "print(augement_prompt(query))"
   ],
   "id": "b76a073372f473ff",
   "outputs": [
    {
     "name": "stdout",
     "output_type": "stream",
     "text": [
      "Using the contets below, answer the query.\n",
      "    \n",
      "    contexts:\n",
      "    Fig. 7. Comparison of AD, ED, source policy and RL^2 on environments that require memory and exploration. Only binary reward is assigned. The source policies are trained with A3C for \"dark\" environments and DQN for watermaze.(Image source: Laskin et al. 2023)\n",
      "Component Two: Memory#\n",
      "(Big thank you to ChatGPT for helping me draft this section. I’ve learned a lot about the human brain and data structure for fast MIPS in my conversations with ChatGPT.)\n",
      "Types of Memory#\n",
      "Memory can be defined as the processes used to acquire, store, retain, and later retrieve information. There are several types of memory in human brains.\n",
      "\n",
      "\n",
      "Sensory Memory: This is the earliest stage of memory, providing the ability to retain impressions of sensory information (visual, auditory, etc) after the original stimuli have ended. Sensory memory typically only lasts for up to a few seconds. Subcategories include iconic memory (visual), echoic memory (auditory), and haptic memory (touch).\n",
      "Fig. 8. Categorization of human memory.\n",
      "We can roughly consider the following mappings:\n",
      "\n",
      "Sensory memory as learning embedding representations for raw inputs, including text, image or other modalities;\n",
      "Short-term memory as in-context learning. It is short and finite, as it is restricted by the finite context window length of Transformer.\n",
      "Long-term memory as the external vector store that the agent can attend to at query time, accessible via fast retrieval.\n",
      "Short-Term Memory (STM) or Working Memory: It stores information that we are currently aware of and needed to carry out complex cognitive tasks such as learning and reasoning. Short-term memory is believed to have the capacity of about 7 items (Miller 1956) and lasts for 20-30 seconds.\n",
      "\n",
      "\n",
      "Long-Term Memory (LTM): Long-term memory can store information for a remarkably long time, ranging from a few days to decades, with an essentially unlimited storage capacity. There are two subtypes of LTM:\n",
      "\n",
      "Explicit / declarative memory: This is memory of facts and events, and refers to those memories that can be consciously recalled, including episodic memory (events and experiences) and semantic memory (facts and concepts).\n",
      "Implicit / procedural memory: This type of memory is unconscious and involves skills and routines that are performed automatically, like riding a bike or typing on a keyboard.\n",
      "\n",
      "\n",
      "\n",
      "\n",
      "Fig. 8. Categorization of human memory.\n",
      "We can roughly consider the following mappings:\n",
      "    \n",
      "    query:What are the Types of Memory ?\n"
     ]
    }
   ],
   "execution_count": 29
  },
  {
   "metadata": {
    "ExecuteTime": {
     "end_time": "2024-12-01T07:46:26.878871Z",
     "start_time": "2024-12-01T07:46:22.495251Z"
    }
   },
   "cell_type": "code",
   "source": [
    "from langchain.schema import HumanMessage, SystemMessage, AIMessage\n",
    "messages = [\n",
    "    SystemMessage(content='You are a helpful assistant!'),\n",
    "    HumanMessage(content='knock knock!'),\n",
    "    AIMessage(content='What;s there?'),\n",
    "]\n",
    "prompt = HumanMessage(content=augement_prompt(query))\n",
    "messages.append(prompt)\n",
    "chat = ChatOllama(model ='llama3.2')\n",
    "res = chat(messages)"
   ],
   "id": "1d29ffcf5110b6d3",
   "outputs": [],
   "execution_count": 30
  },
  {
   "metadata": {
    "ExecuteTime": {
     "end_time": "2024-12-01T07:46:27.347413Z",
     "start_time": "2024-12-01T07:46:27.343482Z"
    }
   },
   "cell_type": "code",
   "source": "res",
   "id": "762b484fa1318584",
   "outputs": [
    {
     "data": {
      "text/plain": [
       "AIMessage(content='According to the provided context, there are three types of memory:\\n\\n1. **Sensory Memory**: This is the earliest stage of memory that provides the ability to retain impressions of sensory information (visual, auditory, etc) after the original stimuli have ended. It typically only lasts for up to a few seconds.\\n2. **Short-Term Memory (STM)**: Also known as Working Memory, it stores information that we are currently aware of and needed to carry out complex cognitive tasks such as learning and reasoning. It is believed to have a capacity of about 7 items and lasts for 20-30 seconds.\\n3. **Long-Term Memory (LTM)**: This type of memory can store information for a remarkably long time, ranging from a few days to decades, with an essentially unlimited storage capacity. There are two subtypes:\\n\\t* **Explicit/Declarative Memory**: This refers to memories that can be consciously recalled, including episodic memory (events and experiences) and semantic memory (facts and concepts).\\n\\t* **Implicit/Procedural Memory**: This type of memory is unconscious and involves skills and routines that are performed automatically, like riding a bike or typing on a keyboard.', additional_kwargs={}, response_metadata={'model': 'llama3.2', 'created_at': '2024-12-01T07:46:26.8770111Z', 'done': True, 'done_reason': 'stop', 'total_duration': 3759792500, 'load_duration': 12999400, 'prompt_eval_count': 579, 'prompt_eval_duration': 171000000, 'eval_count': 244, 'eval_duration': 3570000000, 'message': Message(role='assistant', content='', images=None, tool_calls=None)}, id='run-13afd7f5-5ebd-4d89-8333-145c3d7da499-0', usage_metadata={'input_tokens': 579, 'output_tokens': 244, 'total_tokens': 823})"
      ]
     },
     "execution_count": 31,
     "metadata": {},
     "output_type": "execute_result"
    }
   ],
   "execution_count": 31
  },
  {
   "metadata": {
    "ExecuteTime": {
     "end_time": "2024-12-01T07:45:04.480989Z",
     "start_time": "2024-12-01T07:45:04.476987Z"
    }
   },
   "cell_type": "code",
   "source": "query",
   "id": "29b404e323668b7d",
   "outputs": [
    {
     "data": {
      "text/plain": [
       "'What are the key components of an agent system?'"
      ]
     },
     "execution_count": 28,
     "metadata": {},
     "output_type": "execute_result"
    }
   ],
   "execution_count": 28
  },
  {
   "metadata": {},
   "cell_type": "code",
   "outputs": [],
   "execution_count": null,
   "source": "",
   "id": "acf649b731ca9e85"
  }
 ],
 "metadata": {
  "kernelspec": {
   "display_name": "pyllm",
   "language": "python",
   "name": "llm"
  },
  "language_info": {
   "codemirror_mode": {
    "name": "ipython",
    "version": 2
   },
   "file_extension": ".py",
   "mimetype": "text/x-python",
   "name": "python",
   "nbconvert_exporter": "python",
   "pygments_lexer": "ipython2",
   "version": "2.7.6"
  }
 },
 "nbformat": 4,
 "nbformat_minor": 5
}
