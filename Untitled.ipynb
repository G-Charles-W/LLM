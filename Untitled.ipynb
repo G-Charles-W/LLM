{
 "cells": [
  {
   "cell_type": "code",
   "execution_count": 29,
   "id": "5d387948-e219-4220-8832-299a91e484ab",
   "metadata": {},
   "outputs": [
    {
     "name": "stdout",
     "output_type": "stream",
     "text": [
      "Total characters: 43131\n"
     ]
    }
   ],
   "source": [
    "import os\n",
    "import getpass\n",
    "import bs4\n",
    "from langchain_community.document_loaders import WebBaseLoader\n",
    "os.environ['USER_AGENT'] = 'myagent'\n",
    "\n",
    "# Only keep post title, headers, and content from the full HTML.\n",
    "bs4_strainer = bs4.SoupStrainer(class_=(\"post-title\", \"post-header\", \"post-content\"))\n",
    "loader = WebBaseLoader(\n",
    "    web_paths=(\"https://lilianweng.github.io/posts/2023-06-23-agent/\",),\n",
    "    bs_kwargs={\"parse_only\": bs4_strainer},\n",
    ")\n",
    "docs = loader.load()\n",
    "\n",
    "assert len(docs) == 1\n",
    "print(f\"Total characters: {len(docs[0].page_content)}\")"
   ]
  },
  {
   "cell_type": "code",
   "execution_count": 30,
   "id": "1aa2651a-04cb-48c8-90e9-ae8843e06554",
   "metadata": {},
   "outputs": [
    {
     "name": "stdout",
     "output_type": "stream",
     "text": [
      "\n",
      "\n",
      "      LLM Powered Autonomous Agents\n",
      "    \n",
      "Date: June 23, 2023  |  Estimated Reading Time: 31 min  |  Author: Lilian Weng\n",
      "\n",
      "\n",
      "Building agents with LLM (large language model) as its core controller is a cool concept. Several proof-of-concepts demos, such as AutoGPT, GPT-Engineer and BabyAGI, serve as inspiring examples. The potentiality of LLM extends beyond generating well-written copies, stories, essays and programs; it can be framed as a powerful general problem solver.\n",
      "Agent System Overview#\n",
      "In\n"
     ]
    }
   ],
   "source": [
    "print(docs[0].page_content[:500])"
   ]
  },
  {
   "cell_type": "code",
   "execution_count": 31,
   "id": "9950c6e3-b463-45e8-9553-83c52a2524fd",
   "metadata": {},
   "outputs": [
    {
     "name": "stdout",
     "output_type": "stream",
     "text": [
      "Split blog post into 66 sub-documents.\n"
     ]
    }
   ],
   "source": [
    "from langchain_text_splitters import RecursiveCharacterTextSplitter\n",
    "\n",
    "text_splitter = RecursiveCharacterTextSplitter(\n",
    "    chunk_size=1000,  # chunk size (characters)\n",
    "    chunk_overlap=200,  # chunk overlap (characters)\n",
    "    add_start_index=True,  # track index in original document\n",
    ")\n",
    "all_splits = text_splitter.split_documents(docs)\n",
    "\n",
    "print(f\"Split blog post into {len(all_splits)} sub-documents.\")"
   ]
  },
  {
   "cell_type": "code",
   "execution_count": 32,
   "id": "47d9cbf5-a6a6-440f-b5ff-281ef8f38add",
   "metadata": {},
   "outputs": [
    {
     "data": {
      "text/plain": [
       "Document(metadata={'source': 'https://lilianweng.github.io/posts/2023-06-23-agent/', 'start_index': 971}, page_content='Memory\\n\\nShort-term memory: I would consider all the in-context learning (See Prompt Engineering) as utilizing short-term memory of the model to learn.\\nLong-term memory: This provides the agent with the capability to retain and recall (infinite) information over extended periods, often by leveraging an external vector store and fast retrieval.\\n\\n\\nTool use\\n\\nThe agent learns to call external APIs for extra information that is missing from the model weights (often hard to change after pre-training), including current information, code execution capability, access to proprietary information sources and more.')"
      ]
     },
     "execution_count": 32,
     "metadata": {},
     "output_type": "execute_result"
    }
   ],
   "source": [
    "all_splits[1]"
   ]
  },
  {
   "cell_type": "code",
   "execution_count": 33,
   "id": "ab42f7fe-fa5d-4d1b-aa78-b1fcd5d28084",
   "metadata": {},
   "outputs": [],
   "source": [
    "from langchain_core.vectorstores import InMemoryVectorStore\n",
    "from langchain_ollama import OllamaEmbeddings\n",
    "embeddings = OllamaEmbeddings(model=\"llama3.1\")\n",
    "vector_store = InMemoryVectorStore(embeddings)"
   ]
  },
  {
   "cell_type": "code",
   "execution_count": 34,
   "id": "16dbbead-81b5-4bd6-bc6a-1882431e8c23",
   "metadata": {},
   "outputs": [
    {
     "name": "stdout",
     "output_type": "stream",
     "text": [
      "['7be2c145-cdad-42df-a7f1-02172669cf98', 'bd0d3a65-4800-4789-b17d-3e17ec95268d', '8498cb25-7d34-4636-ae00-30bddfb08694']\n"
     ]
    }
   ],
   "source": [
    "document_ids = vector_store.add_documents(documents=all_splits)\n",
    "\n",
    "print(document_ids[:3])"
   ]
  },
  {
   "cell_type": "code",
   "execution_count": 35,
   "id": "d503b84b-8749-45cf-b383-d7a3e6ca4361",
   "metadata": {
    "scrolled": true
   },
   "outputs": [
    {
     "data": {
      "text/plain": [
       "['7be2c145-cdad-42df-a7f1-02172669cf98',\n",
       " 'bd0d3a65-4800-4789-b17d-3e17ec95268d',\n",
       " '8498cb25-7d34-4636-ae00-30bddfb08694',\n",
       " '4e3397a3-b2f6-48f1-a50d-dea6406cc755',\n",
       " 'e4ce9c0b-cb78-45ca-a46c-cfc3f4d1badc',\n",
       " '0a6a9beb-ab57-4c1c-ab35-2d7fc59f9d14',\n",
       " '6680149c-f9c3-4f37-bc81-ead5d8b8d097',\n",
       " '89c33ec5-91ff-444d-9905-e7460fa047ce',\n",
       " 'a2996211-1fa1-4440-9e15-7b648bfc29c1',\n",
       " '87c65ff6-0562-4585-ad24-b8fe734f26b2',\n",
       " '5b142c1d-879e-4e94-991b-3c5aaa666eaa',\n",
       " '1688bd0d-a968-41c9-af5b-2147f34c942c',\n",
       " 'da69c14e-9bd0-44ba-8eab-62bc24178ea6',\n",
       " 'c0edfedc-b7ad-4251-ad47-76cb19dff2fb',\n",
       " 'e58a4582-d630-45a1-843e-ffa149dfdb7b',\n",
       " '69097274-e8e8-4eb3-8a9a-8cd7acef2c6b',\n",
       " '13431a17-7d79-4080-b9bc-1601f65d1bb2',\n",
       " '15a21064-2bf9-4163-be6a-b11080647bcd',\n",
       " 'd28eb2ac-3850-4c20-812b-961c3e3716ab',\n",
       " '3b29cacd-eb23-4037-be18-1d931a18e98c',\n",
       " '2140a585-2082-4782-ac80-9b672b63f238',\n",
       " 'e0d548e2-236e-4a6e-93e7-0212a3e71568',\n",
       " '195384db-0b02-4540-bd3f-d8dd5c128a83',\n",
       " 'b87a2a23-9c2b-4660-a1f9-d52c9883db19',\n",
       " '753e88d2-d498-4712-8ba4-736bb3e9334d',\n",
       " '2ea5deab-447e-4f13-8e72-a17f38470e47',\n",
       " '6ad42caf-4d19-41b9-8b2f-e6fa991706ad',\n",
       " '02a8b6c2-edc4-4f09-81bc-bb0c79f82428',\n",
       " '06360594-5b30-4a26-8b46-0ec7278c3ae0',\n",
       " '16f35d07-af91-4287-8051-b270742dd455',\n",
       " 'ce3ae126-8a42-491b-bd99-201f0b741db0',\n",
       " '89f72d37-00a8-4c65-a4e4-b8447f6c45c3',\n",
       " '4f5b9b5c-c45d-4254-8e8b-646d349b5d2d',\n",
       " 'ffe4171c-7e37-40f9-b9c5-fe0c51d61af8',\n",
       " '1dc7b060-70ba-45b7-97e5-0dbdb1712e23',\n",
       " '59236adc-1808-482e-994c-52a22f109ccd',\n",
       " '3ae4686b-999e-4bab-9583-74b566cc7a1b',\n",
       " '87a1b260-ecff-47f9-8f7e-7a97a8a6d7f7',\n",
       " '66b0fc51-6cd0-4988-a2cc-eda6e14abf62',\n",
       " '6baef02e-86bc-4bfc-a497-d73ff62d08fe',\n",
       " '99aa5e56-c7e2-4bdb-b976-868187382e98',\n",
       " 'ff20871e-c81a-487d-92cb-c0ddea83bd3c',\n",
       " '09c3361e-6192-4073-91df-c1bd12c5ad88',\n",
       " '8475ce50-f795-41b1-92de-4388274091d1',\n",
       " 'ef4b889f-5cf2-4375-a27e-42e2255e1ff1',\n",
       " 'f6f209d2-2d1d-449f-93d2-4261b142c9dc',\n",
       " '8dc562e1-b6e6-427d-ba20-1968ba519bc5',\n",
       " 'c98cc19e-652d-4117-adcd-3789dadfdc5f',\n",
       " '4b77711a-0a05-4af7-a8b0-8e5a85545249',\n",
       " 'cba54faa-417e-4057-94a5-83ed4e943577',\n",
       " '083144d2-beec-4cfe-8ad7-32d92a57ddc9',\n",
       " 'f694bd38-0946-4423-9f84-be11b9a06b4a',\n",
       " '3980cc0d-840e-45e4-a051-5261502ad098',\n",
       " '5e3193fa-1e6e-46e5-88c0-df6e59c0a63a',\n",
       " '36b465e6-e221-4413-9673-40df45117700',\n",
       " '41012049-f116-443d-ad10-fa22e1cf46bf',\n",
       " '42722473-50d4-46be-abe4-a04e4030e7f4',\n",
       " '0584bc48-6866-4c49-bda4-2349e418903c',\n",
       " '2a1ac33a-c48c-41ef-aa52-5b983e87bfcc',\n",
       " '1d2d4cea-f815-450d-8362-3e9df00506f0',\n",
       " '31c54763-1522-4d03-ae90-c5102de5cf62',\n",
       " '20dcff0a-39ed-4c27-a0a7-74c99201de8e',\n",
       " 'dd4011a4-7f2b-4452-a6a0-37d301a9996c',\n",
       " '59256b40-b25b-4f05-a744-3e1dcdedae20',\n",
       " '7ca0e51e-b48e-4dba-8f89-5dfd07b466ba',\n",
       " 'a9385d27-9c11-4f76-b1ff-6c3c0393c3d5']"
      ]
     },
     "execution_count": 35,
     "metadata": {},
     "output_type": "execute_result"
    }
   ],
   "source": [
    "document_ids"
   ]
  },
  {
   "cell_type": "code",
   "execution_count": 36,
   "id": "896551a0-db27-436c-bf9e-bae316b8aa74",
   "metadata": {},
   "outputs": [
    {
     "name": "stderr",
     "output_type": "stream",
     "text": [
      "C:\\Users\\jwane09695\\Anaconda3\\envs\\llm\\Lib\\site-packages\\langsmith\\client.py:241: LangSmithMissingAPIKeyWarning: API key must be provided when using hosted LangSmith API\n",
      "  warnings.warn(\n"
     ]
    },
    {
     "name": "stdout",
     "output_type": "stream",
     "text": [
      "You are an assistant for question-answering tasks. Use the following pieces of retrieved context to answer the question. If you don't know the answer, just say that you don't know. Use three sentences maximum and keep the answer concise.\n",
      "Question: (question goes here) \n",
      "Context: (context goes here) \n",
      "Answer:\n"
     ]
    }
   ],
   "source": [
    "from langchain import hub\n",
    "\n",
    "prompt = hub.pull(\"rlm/rag-prompt\")\n",
    "\n",
    "example_messages = prompt.invoke(\n",
    "    {\"context\": \"(context goes here)\", \"question\": \"(question goes here)\"}\n",
    ").to_messages()\n",
    "\n",
    "assert len(example_messages) == 1\n",
    "print(example_messages[0].content)"
   ]
  },
  {
   "cell_type": "code",
   "execution_count": 37,
   "id": "1d109836-30cd-4412-b0e7-49bd5dbda984",
   "metadata": {},
   "outputs": [],
   "source": [
    "from langchain_core.documents import Document\n",
    "from typing_extensions import List, TypedDict\n",
    "\n",
    "\n",
    "class State(TypedDict):\n",
    "    question: str\n",
    "    context: List[Document]\n",
    "    answer: str"
   ]
  },
  {
   "cell_type": "code",
   "execution_count": 38,
   "id": "193d7f53-e6f5-43b0-ac50-c402635c99d2",
   "metadata": {},
   "outputs": [],
   "source": [
    "def retrieve(state: State):\n",
    "    retrieved_docs = vector_store.similarity_search(state[\"question\"])\n",
    "    return {\"context\": retrieved_docs}\n",
    "\n",
    "\n",
    "def generate(state: State):\n",
    "    docs_content = \"\\n\\n\".join(doc.page_content for doc in state[\"context\"])\n",
    "    messages = prompt.invoke({\"question\": state[\"question\"], \"context\": docs_content})\n",
    "    response = llm.invoke(messages)\n",
    "    return {\"answer\": response.content}"
   ]
  },
  {
   "cell_type": "code",
   "execution_count": 39,
   "id": "a5a2d154-51f1-4e8d-ad32-963db42fd90b",
   "metadata": {},
   "outputs": [],
   "source": [
    "from langgraph.graph import START, StateGraph\n",
    "\n",
    "graph_builder = StateGraph(State).add_sequence([retrieve, generate])\n",
    "graph_builder.add_edge(START, \"retrieve\")\n",
    "graph = graph_builder.compile()"
   ]
  },
  {
   "cell_type": "code",
   "execution_count": 40,
   "id": "b5402eee-69f8-41b0-aa2d-8a02c7c6bb11",
   "metadata": {},
   "outputs": [
    {
     "data": {
      "image/png": "[encoded data removed]",
      "text/plain": [
       "<IPython.core.display.Image object>"
      ]
     },
     "metadata": {},
     "output_type": "display_data"
    }
   ],
   "source": [
    "from IPython.display import Image, display\n",
    "\n",
    "display(Image(graph.get_graph().draw_mermaid_png()))"
   ]
  },
  {
   "cell_type": "code",
   "execution_count": 46,
   "id": "1df99197-65f4-42e5-8c94-52263dd06b94",
   "metadata": {
    "scrolled": true
   },
   "outputs": [
    {
     "name": "stdout",
     "output_type": "stream",
     "text": [
      "Context: [Document(id='7ca0e51e-b48e-4dba-8f89-5dfd07b466ba', metadata={'source': 'https://lilianweng.github.io/posts/2023-06-23-agent/', 'start_index': 41421}, page_content='[6] Google Blog. “Announcing ScaNN: Efficient Vector Similarity Search” July 28, 2020.\\n[7] https://chat.openai.com/share/46ff149e-a4c7-4dd7-a800-fc4a642ea389\\n[8] Shinn & Labash. “Reflexion: an autonomous agent with dynamic memory and self-reflection” arXiv preprint arXiv:2303.11366 (2023).\\n[9] Laskin et al. “In-context Reinforcement Learning with Algorithm Distillation” ICLR 2023.\\n[10] Karpas et al. “MRKL Systems A modular, neuro-symbolic architecture that combines large language models, external knowledge sources and discrete reasoning.” arXiv preprint arXiv:2205.00445 (2022).\\n[11] Nakano et al. “Webgpt: Browser-assisted question-answering with human feedback.” arXiv preprint arXiv:2112.09332 (2021).\\n[12] Parisi et al. “TALM: Tool Augmented Language Models”\\n[13] Schick et al. “Toolformer: Language Models Can Teach Themselves to Use Tools.” arXiv preprint arXiv:2302.04761 (2023).\\n[14] Weaviate Blog. Why is Vector Search so fast? Sep 13, 2022.'), Document(id='a2996211-1fa1-4440-9e15-7b648bfc29c1', metadata={'source': 'https://lilianweng.github.io/posts/2023-06-23-agent/', 'start_index': 5930}, page_content='Fig. 4. Experiments on AlfWorld Env and HotpotQA. Hallucination is a more common failure than inefficient planning in AlfWorld. (Image source: Shinn & Labash, 2023)'), Document(id='59236adc-1808-482e-994c-52a22f109ccd', metadata={'source': 'https://lilianweng.github.io/posts/2023-06-23-agent/', 'start_index': 24006}, page_content='inquired about current trends in anticancer drug discovery;\\nselected a target;\\nrequested a scaffold targeting these compounds;\\nOnce the compound was identified, the model attempted its synthesis.'), Document(id='4f5b9b5c-c45d-4254-8e8b-646d349b5d2d', metadata={'source': 'https://lilianweng.github.io/posts/2023-06-23-agent/', 'start_index': 21624}, page_content='This benchmark evaluates the agent’s tool use capabilities at three levels:\\n\\nLevel-1 evaluates the ability to call the API. Given an API’s description, the model needs to determine whether to call a given API, call it correctly, and respond properly to API returns.\\nLevel-2 examines the ability to retrieve the API. The model needs to search for possible APIs that may solve the user’s requirement and learn how to use them by reading documentation.\\nLevel-3 assesses the ability to plan API beyond retrieve and call. Given unclear user requests (e.g. schedule group meetings, book flight/hotel/restaurant for a trip), the model may have to conduct multiple API calls to solve it.')]\n",
      "\n",
      "\n",
      "Answer: I don't know. The context provided does not mention self-reflection. It discusses various AI-related topics such as vector similarity search, autonomous agents, and tool use capabilities in language models.\n"
     ]
    }
   ],
   "source": [
    "result = graph.invoke({\"question\": \"What is Self-Reflection?\"})\n",
    "\n",
    "print(f'Context: {result[\"context\"]}\\n\\n')\n",
    "print(f'Answer: {result[\"answer\"]}')"
   ]
  },
  {
   "cell_type": "code",
   "execution_count": 42,
   "id": "57504ede-d403-4a28-955f-5b6480ab7b2c",
   "metadata": {},
   "outputs": [],
   "source": [
    "# from langchain_openai import ChatOpenAI\n",
    "from langchain_ollama import ChatOllama\n",
    "\n",
    "llm = ChatOllama(model=\"llama3.1\")"
   ]
  },
  {
   "cell_type": "code",
   "execution_count": 45,
   "id": "7bb09934-20c9-4d64-a052-6e27fac23283",
   "metadata": {},
   "outputs": [
    {
     "name": "stdout",
     "output_type": "stream",
     "text": [
      "{'retrieve': {'context': [Document(id='1688bd0d-a968-41c9-af5b-2147f34c942c', metadata={'source': 'https://lilianweng.github.io/posts/2023-06-23-agent/', 'start_index': 7470}, page_content='Fig. 5. After fine-tuning with CoH, the model can follow instructions to produce outputs with incremental improvement in a sequence. (Image source: Liu et al. 2023)\\nThe idea of CoH is to present a history of sequentially improved outputs  in context and train the model to take on the trend to produce better outputs. Algorithm Distillation (AD; Laskin et al. 2023) applies the same idea to cross-episode trajectories in reinforcement learning tasks, where an algorithm is encapsulated in a long history-conditioned policy. Considering that an agent interacts with the environment many times and in each episode the agent gets a little better, AD concatenates this learning history and feeds that into the model. Hence we should expect the next predicted action to lead to better performance than previous trials. The goal is to learn the process of RL instead of training a task-specific policy itself.'), Document(id='195384db-0b02-4540-bd3f-d8dd5c128a83', metadata={'source': 'https://lilianweng.github.io/posts/2023-06-23-agent/', 'start_index': 15459}, page_content='Fig. 10. A picture of a sea otter using rock to crack open a seashell, while floating in the water. While some other animals can use tools, the complexity is not comparable with humans. (Image source: Animals using tools)\\nMRKL (Karpas et al. 2022), short for “Modular Reasoning, Knowledge and Language”, is a neuro-symbolic architecture for autonomous agents. A MRKL system is proposed to contain a collection of “expert” modules and the general-purpose LLM works as a router to route inquiries to the best suitable expert module. These modules can be neural (e.g. deep learning models) or symbolic (e.g. math calculator, currency converter, weather API).'), Document(id='a2996211-1fa1-4440-9e15-7b648bfc29c1', metadata={'source': 'https://lilianweng.github.io/posts/2023-06-23-agent/', 'start_index': 5930}, page_content='Fig. 4. Experiments on AlfWorld Env and HotpotQA. Hallucination is a more common failure than inefficient planning in AlfWorld. (Image source: Shinn & Labash, 2023)'), Document(id='e4ce9c0b-cb78-45ca-a46c-cfc3f4d1badc', metadata={'source': 'https://lilianweng.github.io/posts/2023-06-23-agent/', 'start_index': 2837}, page_content='Another quite distinct approach, LLM+P (Liu et al. 2023), involves relying on an external classical planner to do long-horizon planning. This approach utilizes the Planning Domain Definition Language (PDDL) as an intermediate interface to describe the planning problem. In this process, LLM (1) translates the problem into “Problem PDDL”, then (2) requests a classical planner to generate a PDDL plan based on an existing “Domain PDDL”, and finally (3) translates the PDDL plan back into natural language. Essentially, the planning step is outsourced to an external tool, assuming the availability of domain-specific PDDL and a suitable planner which is common in certain robotic setups but not in many other domains.\\nSelf-Reflection#\\nSelf-reflection is a vital aspect that allows autonomous agents to improve iteratively by refining past action decisions and correcting previous mistakes. It plays a crucial role in real-world tasks where trial and error are inevitable.')]}}\n",
      "\n",
      "----------------\n",
      "\n",
      "{'generate': {'answer': 'Yes, language models can teach themselves to use tools through approaches like Algorithm Distillation (AD), which trains the model on its own learning history, and LLM+P, which outsources planning to an external tool using a Planning Domain Definition Language (PDDL). These methods enable the model to learn from previous experiences and improve incrementally. However, the complexity of human tool use is not comparable with these approaches.'}}\n",
      "\n",
      "----------------\n",
      "\n"
     ]
    }
   ],
   "source": [
    "for step in graph.stream(\n",
    "    {\"question\": \"Can Language Models Teach Themselves to Use Tools?\"}, stream_mode=\"updates\"\n",
    "):\n",
    "    print(f\"{step}\\n\\n----------------\\n\")"
   ]
  },
  {
   "cell_type": "code",
   "execution_count": null,
   "id": "e409fd6c-d6d9-42a5-87b5-09da90039124",
   "metadata": {},
   "outputs": [],
   "source": []
  }
 ],
 "metadata": {
  "kernelspec": {
   "display_name": "Python 3 (ipykernel)",
   "language": "python",
   "name": "python3"
  },
  "language_info": {
   "codemirror_mode": {
    "name": "ipython",
    "version": 3
   },
   "file_extension": ".py",
   "mimetype": "text/x-python",
   "name": "python",
   "nbconvert_exporter": "python",
   "pygments_lexer": "ipython3",
   "version": "3.12.7"
  }
 },
 "nbformat": 4,
 "nbformat_minor": 5
}
